{
 "cells": [
  {
   "cell_type": "code",
   "execution_count": 4,
   "id": "be89c40a",
   "metadata": {},
   "outputs": [],
   "source": [
    "from pyspark.sql import SparkSession\n",
    "from pyspark.sql.types import StructType, IntegerType, StringType, DoubleType\n",
    "\n",
    "spark = SparkSession.builder \\\n",
    "    .appName(\"DeltaLakeExample\") \\\n",
    "    .config(\"spark.sql.extensions\", \"io.delta.sql.DeltaSparkSessionExtension\") \\\n",
    "    .config(\"spark.sql.catalog.spark_catalog\", \"org.apache.spark.sql.delta.catalog.DeltaCatalog\") \\\n",
    "    .getOrCreate()\n",
    "\n",
    "# Import delta after creating SparkSession\n",
    "from delta.tables import DeltaTable\n",
    "import delta\n",
    "\n",
    "# Your existing code\n",
    "schema = StructType() \\\n",
    "    .add(\"ProductID\", IntegerType(), True) \\\n",
    "    .add(\"ProductName\", StringType(), True) \\\n",
    "    .add(\"Category\", StringType(), True) \\\n",
    "    .add(\"ListPrice\", DoubleType(), True)\n",
    "\n",
    "df = spark.read.format(\"csv\").option(\"header\",\"true\").schema(schema).load(\"products/products.csv\")"
   ]
  },
  {
   "cell_type": "code",
   "execution_count": null,
   "id": "ad47f9ba",
   "metadata": {},
   "outputs": [],
   "source": [
    "df.write.format(\"delta\").mode(\"overwrite\").saveAsTable(\"managed_products\")"
   ]
  }
 ],
 "metadata": {
  "kernelspec": {
   "display_name": ".venv",
   "language": "python",
   "name": "python3"
  },
  "language_info": {
   "codemirror_mode": {
    "name": "ipython",
    "version": 3
   },
   "file_extension": ".py",
   "mimetype": "text/x-python",
   "name": "python",
   "nbconvert_exporter": "python",
   "pygments_lexer": "ipython3",
   "version": "3.12.2"
  }
 },
 "nbformat": 4,
 "nbformat_minor": 5
}
