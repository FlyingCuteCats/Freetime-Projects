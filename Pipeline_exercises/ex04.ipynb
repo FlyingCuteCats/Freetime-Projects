{
 "cells": [
  {
   "cell_type": "code",
   "execution_count": 5,
   "id": "aa47bb85",
   "metadata": {},
   "outputs": [],
   "source": [
    "from pyspark.sql.functions import *\n",
    "from pyspark.sql import SparkSession\n",
    "from pyspark.sql.types import StructType, IntegerType, StringType, DoubleType\n",
    "\n",
    "spark = SparkSession.builder \\\n",
    "    .appName(\"DeltaLakeExample\") \\\n",
    "    .config(\"spark.jars.packages\", \"io.delta:delta-core_2.12:3.1.0\") \\\n",
    "    .config(\"spark.sql.extensions\", \"io.delta.sql.DeltaSparkSessionExtension\") \\\n",
    "    .config(\"spark.sql.catalog.spark_catalog\", \"org.apache.spark.sql.delta.catalog.DeltaCatalog\") \\\n",
    "    .getOrCreate()\n",
    "\n",
    "# Read the new sales data\n",
    "df = spark.read.format(\"csv\").option(\"header\",\"true\").load(\"sales/sales.csv\")\n",
    "\n",
    "## Add month and year columns\n",
    "df = df.withColumn(\"Year\", year(col(\"OrderDate\"))).withColumn(\"Month\", month(col(\"OrderDate\")))\n",
    "\n",
    "# Derive FirstName and LastName columns\n",
    "df = df.withColumn(\"FirstName\", split(col(\"CustomerName\"), \" \").getItem(0)).withColumn(\"LastName\", split(col(\"CustomerName\"), \" \").getItem(1))\n",
    "\n",
    "# Filter and reorder columns\n",
    "df = df[\"SalesOrderNumber\", \"SalesOrderLineNumber\", \"OrderDate\", \"Year\", \"Month\", \"FirstName\", \"LastName\", \"EmailAddress\", \"Item\", \"Quantity\", \"UnitPrice\", \"TaxAmount\"]\n",
    "\n"
   ]
  },
  {
   "cell_type": "code",
   "execution_count": null,
   "id": "7e276ec1",
   "metadata": {},
   "outputs": [],
   "source": [
    "# Since this is run locally, the following chunk won't run: \n",
    "# table_name = \"sales\"\n",
    "# df.write.format(\"delta\").mode(\"append\").saveAsTable(table_name)\n"
   ]
  },
  {
   "cell_type": "code",
   "execution_count": 6,
   "id": "2cfa3c89",
   "metadata": {},
   "outputs": [
    {
     "name": "stdout",
     "output_type": "stream",
     "text": [
      "+----------------+--------------------+----------+----+-----+---------+---------+--------------------+--------------------+--------+---------+---------+\n",
      "|SalesOrderNumber|SalesOrderLineNumber| OrderDate|Year|Month|FirstName| LastName|        EmailAddress|                Item|Quantity|UnitPrice|TaxAmount|\n",
      "+----------------+--------------------+----------+----+-----+---------+---------+--------------------+--------------------+--------+---------+---------+\n",
      "|         SO43701|                   1|2019-07-01|2019|    7|  Christy|      Zhu|christy12@adventu...|Mountain-100 Silv...|       1|  3399.99| 271.9992|\n",
      "|         SO43704|                   1|2019-07-01|2019|    7|    Julio|     Ruiz|julio1@adventure-...|Mountain-100 Blac...|       1|  3374.99| 269.9992|\n",
      "|         SO43705|                   1|2019-07-01|2019|    7|   Curtis|       Lu|curtis9@adventure...|Mountain-100 Silv...|       1|  3399.99| 271.9992|\n",
      "|         SO43700|                   1|2019-07-01|2019|    7|    Ruben|   Prasad|ruben10@adventure...|  Road-650 Black, 62|       1| 699.0982|  55.9279|\n",
      "|         SO43703|                   1|2019-07-01|2019|    7|   Albert|  Alvarez|albert7@adventure...|    Road-150 Red, 62|       1|  3578.27| 286.2616|\n",
      "|         SO43697|                   1|2019-07-01|2019|    7|     Cole|   Watson|cole1@adventure-w...|    Road-150 Red, 62|       1|  3578.27| 286.2616|\n",
      "|         SO43699|                   1|2019-07-01|2019|    7|   Sydney|   Wright|sydney61@adventur...|Mountain-100 Silv...|       1|  3399.99| 271.9992|\n",
      "|         SO43702|                   1|2019-07-01|2019|    7|    Colin|    Anand|colin45@adventure...|    Road-150 Red, 44|       1|  3578.27| 286.2616|\n",
      "|         SO43698|                   1|2019-07-01|2019|    7|  Rachael| Martinez|rachael16@adventu...|Mountain-100 Silv...|       1|  3399.99| 271.9992|\n",
      "|         SO43707|                   1|2019-07-02|2019|    7|     Emma|    Brown|emma3@adventure-w...|    Road-150 Red, 48|       1|  3578.27| 286.2616|\n",
      "|         SO43711|                   1|2019-07-02|2019|    7| Courtney|  Edwards|courtney1@adventu...|    Road-150 Red, 56|       1|  3578.27| 286.2616|\n",
      "|         SO43706|                   1|2019-07-02|2019|    7|   Edward|    Brown|edward26@adventur...|    Road-150 Red, 48|       1|  3578.27| 286.2616|\n",
      "|         SO43708|                   1|2019-07-02|2019|    7|     Brad|     Deng|brad2@adventure-w...|    Road-650 Red, 52|       1| 699.0982|  55.9279|\n",
      "|         SO43709|                   1|2019-07-02|2019|    7|   Martha|       Xu|martha12@adventur...|    Road-150 Red, 52|       1|  3578.27| 286.2616|\n",
      "|         SO43710|                   1|2019-07-02|2019|    7|  Katrina|     Raji|katrina20@adventu...|    Road-150 Red, 56|       1|  3578.27| 286.2616|\n",
      "|         SO43712|                   1|2019-07-02|2019|    7|  Abigail|Henderson|abigail73@adventu...|    Road-150 Red, 44|       1|  3578.27| 286.2616|\n",
      "|         SO43720|                   1|2019-07-03|2019|    7|  Melanie|  Sanchez|melanie47@adventu...|    Road-150 Red, 44|       1|  3578.27| 286.2616|\n",
      "|         SO43721|                   1|2019-07-03|2019|    7|    Louis|      Xie|louis20@adventure...|    Road-150 Red, 62|       1|  3578.27| 286.2616|\n",
      "|         SO43714|                   1|2019-07-03|2019|    7|  Latasha|   Alonso|latasha8@adventur...|    Road-150 Red, 44|       1|  3578.27| 286.2616|\n",
      "|         SO43715|                   1|2019-07-03|2019|    7|   Warren|      Jai|warren42@adventur...|    Road-150 Red, 56|       1|  3578.27| 286.2616|\n",
      "+----------------+--------------------+----------+----+-----+---------+---------+--------------------+--------------------+--------+---------+---------+\n",
      "only showing top 20 rows\n",
      "\n"
     ]
    }
   ],
   "source": [
    "df.show()"
   ]
  }
 ],
 "metadata": {
  "kernelspec": {
   "display_name": "base",
   "language": "python",
   "name": "python3"
  },
  "language_info": {
   "codemirror_mode": {
    "name": "ipython",
    "version": 3
   },
   "file_extension": ".py",
   "mimetype": "text/x-python",
   "name": "python",
   "nbconvert_exporter": "python",
   "pygments_lexer": "ipython3",
   "version": "3.11.7"
  }
 },
 "nbformat": 4,
 "nbformat_minor": 5
}
